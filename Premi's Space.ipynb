{
 "cells": [
  {
   "cell_type": "code",
   "execution_count": 1,
   "metadata": {},
   "outputs": [
    {
     "name": "stdout",
     "output_type": "stream",
     "text": [
      "Requirement already satisfied: lyricsgenius in /opt/conda/lib/python3.8/site-packages (2.0.2)\n",
      "Requirement already satisfied: requests>=2.20.0 in /opt/conda/lib/python3.8/site-packages (from lyricsgenius) (2.24.0)\n",
      "Requirement already satisfied: beautifulsoup4>=4.6.0 in /opt/conda/lib/python3.8/site-packages (from lyricsgenius) (4.9.1)\n",
      "Requirement already satisfied: urllib3!=1.25.0,!=1.25.1,<1.26,>=1.21.1 in /opt/conda/lib/python3.8/site-packages (from requests>=2.20.0->lyricsgenius) (1.25.10)\n",
      "Requirement already satisfied: idna<3,>=2.5 in /opt/conda/lib/python3.8/site-packages (from requests>=2.20.0->lyricsgenius) (2.10)\n",
      "Requirement already satisfied: certifi>=2017.4.17 in /opt/conda/lib/python3.8/site-packages (from requests>=2.20.0->lyricsgenius) (2020.6.20)\n",
      "Requirement already satisfied: chardet<4,>=3.0.2 in /opt/conda/lib/python3.8/site-packages (from requests>=2.20.0->lyricsgenius) (3.0.4)\n",
      "Requirement already satisfied: soupsieve>1.2 in /opt/conda/lib/python3.8/site-packages (from beautifulsoup4>=4.6.0->lyricsgenius) (2.0.1)\n"
     ]
    }
   ],
   "source": [
    "import numpy as np\n",
    "import pandas as pd\n",
    "import datetime\n",
    "!pip install lyricsgenius\n",
    "import lyricsgenius"
   ]
  },
  {
   "cell_type": "code",
   "execution_count": 3,
   "metadata": {},
   "outputs": [],
   "source": [
    "# # read into dataframes\n",
    "# features_df = pd.read_csv('Hot 100 Audio Features.csv')\n",
    "# ranks_df = pd.read_csv('Hot Stuff.csv')"
   ]
  },
  {
   "cell_type": "code",
   "execution_count": 4,
   "metadata": {},
   "outputs": [],
   "source": [
    "# features_df.head()"
   ]
  },
  {
   "cell_type": "code",
   "execution_count": 5,
   "metadata": {},
   "outputs": [],
   "source": [
    "# ranks_df.head()"
   ]
  },
  {
   "cell_type": "code",
   "execution_count": 6,
   "metadata": {},
   "outputs": [],
   "source": [
    "# features = features_df.copy(deep=True)\n",
    "# ranks = ranks_df.copy(deep=True)"
   ]
  },
  {
   "cell_type": "code",
   "execution_count": 7,
   "metadata": {},
   "outputs": [],
   "source": [
    "# # ranks preprocessing\n",
    "# dt = []\n",
    "# # for row_index, row in ranks.iterrows():\n",
    "#     temp = datetime.datetime.strptime(ranks.at[row_index, 'WeekID'], '%m/%d/%Y')\n",
    "#     dt.append(temp)\n",
    "# ranks['Datetime'] = dt"
   ]
  },
  {
   "cell_type": "code",
   "execution_count": 8,
   "metadata": {},
   "outputs": [],
   "source": [
    "# ranks = ranks.sort_values(by=['Datetime', 'Week Position'])\n",
    "# ranks.head()"
   ]
  },
  {
   "cell_type": "code",
   "execution_count": 2,
   "metadata": {},
   "outputs": [],
   "source": [
    "genius = lyricsgenius.Genius('EJqlckWu_h-lDQ8fVR8XOHpKJuEPV1liGiavTav-Y5y1QC1OrUy6AqYFD-VHl8YC')\n",
    "genius.verbose = False\n",
    "# genius.remove_section_headers = True # Remove section headers (e.g. [Chorus]) from lyrics when searching"
   ]
  },
  {
   "cell_type": "code",
   "execution_count": 3,
   "metadata": {},
   "outputs": [],
   "source": [
    "artist = genius.search_artist(\"Andy Shauf\", max_songs=3, sort=\"title\")\n",
    "song = artist.song(\"Alexander All Alone\")\n",
    "song2 = genius.search_song(\"Alexander All Alone\", artist.name)"
   ]
  },
  {
   "cell_type": "code",
   "execution_count": 4,
   "metadata": {},
   "outputs": [
    {
     "name": "stdout",
     "output_type": "stream",
     "text": [
      "[Verse 1: Andy Shauf]\n",
      "Alexander all alone\n",
      "Smoking a cigarette\n",
      "The last pack he’d ever buy\n",
      "At least that’s what he said\n",
      "He stood up to stretch his back\n",
      "And fell down to the ground\n",
      "\n",
      "[Verse 2: Andy Shauf]\n",
      "Alexander all alone\n",
      "'Till the neighbour caught a glimpse\n",
      "Cried out for his wife\n",
      "To call the ambulance\n",
      "Alexander all alone\n",
      "Felt them check his pulse\n",
      "He heard them pronounce him dead\n",
      "\n",
      "[Chorus]\n",
      "Hell is found inside of me\n",
      "And nothing else will set me free\n",
      "If hell is found inside of me\n",
      "Then open me up and spill me out\n",
      "\n",
      "[Verse 3: Andy Shauf]\n",
      "Alexander wondered why\n",
      "No life flashed before his eyes\n",
      "Why his soul did not depart\n",
      "Why he found no peace of mind\n",
      "Would it take a little while?\n",
      "Was it the same for everyone?\n",
      "Alexander realized\n",
      "\n",
      "[Chorus 2]\n",
      "That hell is found inside of me\n",
      "And nothing else will set me free\n",
      "If hell is found inside of me\n",
      "Then open me up and spill me out\n",
      "[Verse 1: Andy Shauf]\n",
      "Alexander all alone\n",
      "Smoking a cigarette\n",
      "The last pack he’d ever buy\n",
      "At least that’s what he said\n",
      "He stood up to stretch his back\n",
      "And fell down to the ground\n",
      "\n",
      "[Verse 2: Andy Shauf]\n",
      "Alexander all alone\n",
      "'Till the neighbour caught a glimpse\n",
      "Cried out for his wife\n",
      "To call the ambulance\n",
      "Alexander all alone\n",
      "Felt them check his pulse\n",
      "He heard them pronounce him dead\n",
      "\n",
      "[Chorus]\n",
      "Hell is found inside of me\n",
      "And nothing else will set me free\n",
      "If hell is found inside of me\n",
      "Then open me up and spill me out\n",
      "\n",
      "[Verse 3: Andy Shauf]\n",
      "Alexander wondered why\n",
      "No life flashed before his eyes\n",
      "Why his soul did not depart\n",
      "Why he found no peace of mind\n",
      "Would it take a little while?\n",
      "Was it the same for everyone?\n",
      "Alexander realized\n",
      "\n",
      "[Chorus 2]\n",
      "That hell is found inside of me\n",
      "And nothing else will set me free\n",
      "If hell is found inside of me\n",
      "Then open me up and spill me out\n"
     ]
    }
   ],
   "source": [
    "# can access it in two ways\n",
    "print(song.lyrics)\n",
    "print(song2.lyrics)"
   ]
  },
  {
   "cell_type": "code",
   "execution_count": 12,
   "metadata": {},
   "outputs": [],
   "source": [
    "def get_lyrics(artist, song):\n",
    "    return genius.search_song(song, artist).lyrics"
   ]
  },
  {
   "cell_type": "code",
   "execution_count": 13,
   "metadata": {},
   "outputs": [],
   "source": [
    "# testlyrics = get_lyrics(ranks.at[0, 'Song'], ranks.at[0, 'Performer'])\n",
    "# print(testlyrics)\n",
    "# # could use package zlib to compress the lyrics, unsure whether or not to, yet"
   ]
  },
  {
   "cell_type": "markdown",
   "metadata": {},
   "source": [
    "potential sentiment analysis packages: spacy, nltk, vader, allennlp\n"
   ]
  },
  {
   "cell_type": "code",
   "execution_count": 14,
   "metadata": {},
   "outputs": [],
   "source": [
    "# songs = pd.read_csv(\"dup.csv\")\n",
    "# songs.rename({'Week Position': 'Rank'}, inplace=True)\n",
    "# songs.head()"
   ]
  },
  {
   "cell_type": "code",
   "execution_count": 15,
   "metadata": {},
   "outputs": [],
   "source": [
    "# def sample_year(year):\n",
    "#     year_songs = songs[(songs.Year == year) & (songs.Rank == 1)]\n",
    "#     print(year_songs.head())"
   ]
  },
  {
   "cell_type": "code",
   "execution_count": 16,
   "metadata": {},
   "outputs": [],
   "source": [
    "#songs = songs.drop_duplicates(subset='SongID', keep='first')"
   ]
  },
  {
   "cell_type": "code",
   "execution_count": 17,
   "metadata": {},
   "outputs": [],
   "source": [
    "#songs[songs.Rank <= 10]"
   ]
  },
  {
   "cell_type": "code",
   "execution_count": 19,
   "metadata": {},
   "outputs": [
    {
     "name": "stdout",
     "output_type": "stream",
     "text": [
      "Kendrick Lamar, 3 songs\n"
     ]
    }
   ],
   "source": [
    "print(genius.search_artist('Kendrick Lamar', max_songs=3))"
   ]
  },
  {
   "cell_type": "code",
   "execution_count": 22,
   "metadata": {},
   "outputs": [
    {
     "name": "stdout",
     "output_type": "stream",
     "text": [
      "Player, 32 songs\n"
     ]
    }
   ],
   "source": [
    "print(genius.search_artist(\"Player\"))"
   ]
  },
  {
   "cell_type": "code",
   "execution_count": 21,
   "metadata": {},
   "outputs": [
    {
     "name": "stdout",
     "output_type": "stream",
     "text": [
      "Herb Alpert, 3 songs\n"
     ]
    }
   ],
   "source": [
    "print(genius.search_artist(\"Herb Alpert\", max_songs=3))"
   ]
  },
  {
   "cell_type": "code",
   "execution_count": null,
   "metadata": {},
   "outputs": [],
   "source": [
    "print(genius.search_artist(\"Blood, Sweat and Tears\"))"
   ]
  },
  {
   "cell_type": "code",
   "execution_count": 5,
   "metadata": {},
   "outputs": [
    {
     "name": "stdout",
     "output_type": "stream",
     "text": [
      "Requirement already satisfied: vaderSentiment in /opt/conda/lib/python3.8/site-packages (3.3.2)\n",
      "Requirement already satisfied: requests in /opt/conda/lib/python3.8/site-packages (from vaderSentiment) (2.24.0)\n",
      "Requirement already satisfied: certifi>=2017.4.17 in /opt/conda/lib/python3.8/site-packages (from requests->vaderSentiment) (2020.6.20)\n",
      "Requirement already satisfied: idna<3,>=2.5 in /opt/conda/lib/python3.8/site-packages (from requests->vaderSentiment) (2.10)\n",
      "Requirement already satisfied: chardet<4,>=3.0.2 in /opt/conda/lib/python3.8/site-packages (from requests->vaderSentiment) (3.0.4)\n",
      "Requirement already satisfied: urllib3!=1.25.0,!=1.25.1,<1.26,>=1.21.1 in /opt/conda/lib/python3.8/site-packages (from requests->vaderSentiment) (1.25.10)\n"
     ]
    }
   ],
   "source": [
    "!pip install vaderSentiment\n",
    "from vaderSentiment.vaderSentiment import SentimentIntensityAnalyzer"
   ]
  },
  {
   "cell_type": "code",
   "execution_count": 6,
   "metadata": {},
   "outputs": [
    {
     "data": {
      "text/plain": [
       "{'neg': 0.182, 'neu': 0.785, 'pos': 0.033, 'compound': -0.9836}"
      ]
     },
     "execution_count": 6,
     "metadata": {},
     "output_type": "execute_result"
    }
   ],
   "source": [
    "analyzer = SentimentIntensityAnalyzer();\n",
    "analyzer.polarity_scores(song.lyrics)"
   ]
  },
  {
   "cell_type": "code",
   "execution_count": 7,
   "metadata": {},
   "outputs": [
    {
     "data": {
      "text/plain": [
       "{'neg': 0.239, 'neu': 0.675, 'pos': 0.086, 'compound': -0.7845}"
      ]
     },
     "execution_count": 7,
     "metadata": {},
     "output_type": "execute_result"
    }
   ],
   "source": [
    "analyzer.polarity_scores(\"That hell is found inside of me, And nothing else will set me free, If hell is found inside of me, Then open me up and spill me out\")"
   ]
  },
  {
   "cell_type": "code",
   "execution_count": null,
   "metadata": {},
   "outputs": [],
   "source": []
  }
 ],
 "metadata": {
  "kernelspec": {
   "display_name": "Python 3",
   "language": "python",
   "name": "python3"
  },
  "language_info": {
   "codemirror_mode": {
    "name": "ipython",
    "version": 3
   },
   "file_extension": ".py",
   "mimetype": "text/x-python",
   "name": "python",
   "nbconvert_exporter": "python",
   "pygments_lexer": "ipython3",
   "version": "3.8.5"
  }
 },
 "nbformat": 4,
 "nbformat_minor": 4
}
