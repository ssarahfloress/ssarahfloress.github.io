{
 "cells": [
  {
   "cell_type": "markdown",
   "metadata": {},
   "source": [
    "# Music Throughout the Decades: An Analysis"
   ]
  },
  {
   "cell_type": "markdown",
   "metadata": {},
   "source": [
    "##  Sarah Flores & Premvanti Patel, UMD CMSC320, Fall 2020 "
   ]
  },
  {
   "cell_type": "markdown",
   "metadata": {},
   "source": [
    "## Table of Contents:\n",
    "1. Introduction: What Are We Doing? <br>\n",
    "2. Data Collection & Processing <br>\n",
    "    A. Downloading the Billboard Top 100 Data <br>\n",
    "    B. Preprocessing the DataFrames: Merging, Cleaning, and More! <br>\n",
    "3. Exploratory Data Analysis <br>\n",
    "    A. Acoustic Features <br>\n",
    "    B. Sentiment Analysis <br>\n",
    "4. Machine Learning: Predicting the Patterns\n",
    "5. Insights and Conclusions"
   ]
  },
  {
   "cell_type": "markdown",
   "metadata": {},
   "source": [
    "## 1. Introduction: What Are We Doing?\n",
    "It's no secret that over the past few decades, people's taste in music has evolved greatly. With this project, we want to explore those changes quantitatively, and more deeply than just finding the most popular genre. There were a few criteria we had to consider in this: how to find the most popular songs, and how exactly to put numbers to music.\n",
    "\n",
    "After some searching, we found a [database](https://data.world/kcmillersean/billboard-hot-100-1958-2017) that would serve our purposes perfectly. It combined the Billboard Top 100 weekly singles from 1958 to 2019, as well as each singles corresponding acoustic features from Spotify.\n",
    "\n",
    "The Billboard Top 100 needs no explanation, but Spotify's acoustic features do. In 2015, [Spotify bought a small company named The Echo Nest](https://www.musicbusinessworldwide.com/spotify-acquired-echo-nest-just-e50m/), who had designed an algorithm that classified songs into numerical acoustic features. These features include some obvious ones, such as key and time signature, but also more nuanced fields such as acousticness, danceability, and energy. More information about these features (including a full spec by Spotify) can be found below.\n",
    "\n",
    "To challenge ourselves and deepen the analysis, we decided to analyze the sentiment of the lyrics of a few of the most popular songs from 1958 to 2019.  With this, we'll also be able to cross-check this against the acoustic features in the database and see if we can find some patterns between the two that maybe even span across time.\n",
    "\n",
    "Here is a list of the Python packages we needed for this project.\n",
    "1. [Numpy](https://numpy.org/doc/stable/reference/index.html)\n",
    "2. [Pandas](https://pandas.pydata.org/docs/reference/index.html)\n",
    "3. [LyricsGenius](https://github.com/johnwmillr/LyricsGenius#usage)\n",
    "4. [Datetime](https://docs.python.org/3/library/datetime.html)\n",
    "5. [Seaborn](https://seaborn.pydata.org/tutorial.html)\n",
    "6. [VADER](https://github.com/cjhutto/vaderSentiment)\n",
    "7. [Re (regex)](https://docs.python.org/3/library/re.html)"
   ]
  },
  {
   "cell_type": "markdown",
   "metadata": {},
   "source": [
    "## 2. Data Collection & Processing "
   ]
  },
  {
   "cell_type": "markdown",
   "metadata": {},
   "source": [
    "### 2A. Downloading the Billboard Top 100 Data\n",
    "\n",
    "As mentioned above, we are using databases with Billboards top 100 weekly songs created by <a href=\"https://data.world/kcmillersean/billboard-hot-100-1958-2017\">Sean Miller</a>. All of the libraries necessary to complete this tutorial are imported/installed below. "
   ]
  },
  {
   "cell_type": "code",
   "execution_count": 1,
   "metadata": {},
   "outputs": [
    {
     "name": "stdout",
     "output_type": "stream",
     "text": [
      "Collecting lyricsgenius\n",
      "  Downloading lyricsgenius-2.0.2-py3-none-any.whl (46 kB)\n",
      "\u001b[K     |████████████████████████████████| 46 kB 753 kB/s eta 0:00:01\n",
      "\u001b[?25hRequirement already satisfied: requests>=2.20.0 in /opt/conda/lib/python3.8/site-packages (from lyricsgenius) (2.24.0)\n",
      "Requirement already satisfied: beautifulsoup4>=4.6.0 in /opt/conda/lib/python3.8/site-packages (from lyricsgenius) (4.9.1)\n",
      "Requirement already satisfied: certifi>=2017.4.17 in /opt/conda/lib/python3.8/site-packages (from requests>=2.20.0->lyricsgenius) (2020.6.20)\n",
      "Requirement already satisfied: idna<3,>=2.5 in /opt/conda/lib/python3.8/site-packages (from requests>=2.20.0->lyricsgenius) (2.10)\n",
      "Requirement already satisfied: urllib3!=1.25.0,!=1.25.1,<1.26,>=1.21.1 in /opt/conda/lib/python3.8/site-packages (from requests>=2.20.0->lyricsgenius) (1.25.10)\n",
      "Requirement already satisfied: chardet<4,>=3.0.2 in /opt/conda/lib/python3.8/site-packages (from requests>=2.20.0->lyricsgenius) (3.0.4)\n",
      "Requirement already satisfied: soupsieve>1.2 in /opt/conda/lib/python3.8/site-packages (from beautifulsoup4>=4.6.0->lyricsgenius) (2.0.1)\n",
      "Installing collected packages: lyricsgenius\n",
      "Successfully installed lyricsgenius-2.0.2\n",
      "Collecting vaderSentiment\n",
      "  Downloading vaderSentiment-3.3.2-py2.py3-none-any.whl (125 kB)\n",
      "\u001b[K     |████████████████████████████████| 125 kB 2.6 MB/s eta 0:00:01\n",
      "\u001b[?25hRequirement already satisfied: requests in /opt/conda/lib/python3.8/site-packages (from vaderSentiment) (2.24.0)\n",
      "Requirement already satisfied: urllib3!=1.25.0,!=1.25.1,<1.26,>=1.21.1 in /opt/conda/lib/python3.8/site-packages (from requests->vaderSentiment) (1.25.10)\n",
      "Requirement already satisfied: idna<3,>=2.5 in /opt/conda/lib/python3.8/site-packages (from requests->vaderSentiment) (2.10)\n",
      "Requirement already satisfied: chardet<4,>=3.0.2 in /opt/conda/lib/python3.8/site-packages (from requests->vaderSentiment) (3.0.4)\n",
      "Requirement already satisfied: certifi>=2017.4.17 in /opt/conda/lib/python3.8/site-packages (from requests->vaderSentiment) (2020.6.20)\n",
      "Installing collected packages: vaderSentiment\n",
      "Successfully installed vaderSentiment-3.3.2\n"
     ]
    }
   ],
   "source": [
    "# general\n",
    "import numpy as np\n",
    "import pandas as pd\n",
    "import datetime\n",
    "import re\n",
    "\n",
    "# plotting\n",
    "import matplotlib.pyplot as plt\n",
    "%matplotlib inline\n",
    "import seaborn as sns\n",
    "\n",
    "# scraping lyrics \n",
    "!pip install lyricsgenius\n",
    "import lyricsgenius\n",
    "\n",
    "# sentiment analysis\n",
    "!pip install vaderSentiment\n",
    "from vaderSentiment.vaderSentiment import SentimentIntensityAnalyzer"
   ]
  },
  {
   "cell_type": "markdown",
   "metadata": {},
   "source": [
    "As with every good data science project, we'll start by reading our CSV files into DataFrames."
   ]
  },
  {
   "cell_type": "code",
   "execution_count": 2,
   "metadata": {},
   "outputs": [],
   "source": [
    "# read into dataframes\n",
    "features_df = pd.read_csv('Hot 100 Audio Features.csv')\n",
    "ranks_df = pd.read_csv('Hot Stuff.csv')\n",
    "\n",
    "# make copies to manipulate\n",
    "features = features_df.copy(deep=True)\n",
    "ranks = ranks_df.copy(deep=True)"
   ]
  },
  {
   "cell_type": "markdown",
   "metadata": {},
   "source": [
    "In the Ranks dataset shown below, there are 10 columns. They tell us how a song ranked in comparison to other songs that year. The attributes provided broadly include three types of information:\n",
    "1. Song information: the name and performer of the song\n",
    "2. Charts information: data about when and where the song was on the charts\n",
    "3. Dataset information: the billboard.com URL, and a SongID specific to the dataset."
   ]
  },
  {
   "cell_type": "code",
   "execution_count": 3,
   "metadata": {},
   "outputs": [
    {
     "data": {
      "text/html": [
       "<div>\n",
       "<style scoped>\n",
       "    .dataframe tbody tr th:only-of-type {\n",
       "        vertical-align: middle;\n",
       "    }\n",
       "\n",
       "    .dataframe tbody tr th {\n",
       "        vertical-align: top;\n",
       "    }\n",
       "\n",
       "    .dataframe thead th {\n",
       "        text-align: right;\n",
       "    }\n",
       "</style>\n",
       "<table border=\"1\" class=\"dataframe\">\n",
       "  <thead>\n",
       "    <tr style=\"text-align: right;\">\n",
       "      <th></th>\n",
       "      <th>url</th>\n",
       "      <th>WeekID</th>\n",
       "      <th>Week Position</th>\n",
       "      <th>Song</th>\n",
       "      <th>Performer</th>\n",
       "      <th>SongID</th>\n",
       "      <th>Instance</th>\n",
       "      <th>Previous Week Position</th>\n",
       "      <th>Peak Position</th>\n",
       "      <th>Weeks on Chart</th>\n",
       "    </tr>\n",
       "  </thead>\n",
       "  <tbody>\n",
       "    <tr>\n",
       "      <th>0</th>\n",
       "      <td>http://www.billboard.com/charts/hot-100/1958-0...</td>\n",
       "      <td>8/2/1958</td>\n",
       "      <td>1</td>\n",
       "      <td>Poor Little Fool</td>\n",
       "      <td>Ricky Nelson</td>\n",
       "      <td>Poor Little FoolRicky Nelson</td>\n",
       "      <td>1</td>\n",
       "      <td>NaN</td>\n",
       "      <td>1</td>\n",
       "      <td>1</td>\n",
       "    </tr>\n",
       "    <tr>\n",
       "      <th>1</th>\n",
       "      <td>http://www.billboard.com/charts/hot-100/1995-1...</td>\n",
       "      <td>12/2/1995</td>\n",
       "      <td>1</td>\n",
       "      <td>One Sweet Day</td>\n",
       "      <td>Mariah Carey &amp; Boyz II Men</td>\n",
       "      <td>One Sweet DayMariah Carey &amp; Boyz II Men</td>\n",
       "      <td>1</td>\n",
       "      <td>NaN</td>\n",
       "      <td>1</td>\n",
       "      <td>1</td>\n",
       "    </tr>\n",
       "    <tr>\n",
       "      <th>2</th>\n",
       "      <td>http://www.billboard.com/charts/hot-100/1997-1...</td>\n",
       "      <td>10/11/1997</td>\n",
       "      <td>1</td>\n",
       "      <td>Candle In The Wind 1997/Something About The Wa...</td>\n",
       "      <td>Elton John</td>\n",
       "      <td>Candle In The Wind 1997/Something About The Wa...</td>\n",
       "      <td>1</td>\n",
       "      <td>NaN</td>\n",
       "      <td>1</td>\n",
       "      <td>1</td>\n",
       "    </tr>\n",
       "  </tbody>\n",
       "</table>\n",
       "</div>"
      ],
      "text/plain": [
       "                                                 url      WeekID  \\\n",
       "0  http://www.billboard.com/charts/hot-100/1958-0...    8/2/1958   \n",
       "1  http://www.billboard.com/charts/hot-100/1995-1...   12/2/1995   \n",
       "2  http://www.billboard.com/charts/hot-100/1997-1...  10/11/1997   \n",
       "\n",
       "   Week Position                                               Song  \\\n",
       "0              1                                   Poor Little Fool   \n",
       "1              1                                      One Sweet Day   \n",
       "2              1  Candle In The Wind 1997/Something About The Wa...   \n",
       "\n",
       "                    Performer  \\\n",
       "0                Ricky Nelson   \n",
       "1  Mariah Carey & Boyz II Men   \n",
       "2                  Elton John   \n",
       "\n",
       "                                              SongID  Instance  \\\n",
       "0                       Poor Little FoolRicky Nelson         1   \n",
       "1            One Sweet DayMariah Carey & Boyz II Men         1   \n",
       "2  Candle In The Wind 1997/Something About The Wa...         1   \n",
       "\n",
       "   Previous Week Position  Peak Position  Weeks on Chart  \n",
       "0                     NaN              1               1  \n",
       "1                     NaN              1               1  \n",
       "2                     NaN              1               1  "
      ]
     },
     "execution_count": 3,
     "metadata": {},
     "output_type": "execute_result"
    }
   ],
   "source": [
    "ranks.head(3)"
   ]
  },
  {
   "cell_type": "markdown",
   "metadata": {},
   "source": [
    "In the Features dataset shown below, we have 22 columns. The first 10 columns provide basic information for each song, like its title and performer. In addition, it also includes Spotify-specific details like Track ID and popularity. The SongID, Song, and Perfomer columns are repeated from the Ranks dataset, which makes them important for connecting the Rank and Features DataFrames. The remaining 12 columns describe the acoustic features of each song. To learn more about what each acoustic feature signifies, check out this <a href=\"https://developer.spotify.com/documentation/web-api/reference/tracks/get-audio-features/\">spec</a> created by Spotify. "
   ]
  },
  {
   "cell_type": "code",
   "execution_count": 4,
   "metadata": {
    "scrolled": true
   },
   "outputs": [
    {
     "data": {
      "text/html": [
       "<div>\n",
       "<style scoped>\n",
       "    .dataframe tbody tr th:only-of-type {\n",
       "        vertical-align: middle;\n",
       "    }\n",
       "\n",
       "    .dataframe tbody tr th {\n",
       "        vertical-align: top;\n",
       "    }\n",
       "\n",
       "    .dataframe thead th {\n",
       "        text-align: right;\n",
       "    }\n",
       "</style>\n",
       "<table border=\"1\" class=\"dataframe\">\n",
       "  <thead>\n",
       "    <tr style=\"text-align: right;\">\n",
       "      <th></th>\n",
       "      <th>SongID</th>\n",
       "      <th>Performer</th>\n",
       "      <th>Song</th>\n",
       "      <th>spotify_genre</th>\n",
       "      <th>spotify_track_id</th>\n",
       "      <th>spotify_track_preview_url</th>\n",
       "      <th>spotify_track_album</th>\n",
       "      <th>spotify_track_explicit</th>\n",
       "      <th>spotify_track_duration_ms</th>\n",
       "      <th>spotify_track_popularity</th>\n",
       "      <th>...</th>\n",
       "      <th>key</th>\n",
       "      <th>loudness</th>\n",
       "      <th>mode</th>\n",
       "      <th>speechiness</th>\n",
       "      <th>acousticness</th>\n",
       "      <th>instrumentalness</th>\n",
       "      <th>liveness</th>\n",
       "      <th>valence</th>\n",
       "      <th>tempo</th>\n",
       "      <th>time_signature</th>\n",
       "    </tr>\n",
       "  </thead>\n",
       "  <tbody>\n",
       "    <tr>\n",
       "      <th>0</th>\n",
       "      <td>AdictoTainy, Anuel AA &amp; Ozuna</td>\n",
       "      <td>Tainy, Anuel AA &amp; Ozuna</td>\n",
       "      <td>Adicto</td>\n",
       "      <td>['pop reggaeton']</td>\n",
       "      <td>3jbT1Y5MoPwEIpZndDDwVq</td>\n",
       "      <td>NaN</td>\n",
       "      <td>Adicto (with Anuel AA &amp; Ozuna)</td>\n",
       "      <td>False</td>\n",
       "      <td>270740.0</td>\n",
       "      <td>91.0</td>\n",
       "      <td>...</td>\n",
       "      <td>10.0</td>\n",
       "      <td>-4.803</td>\n",
       "      <td>0.0</td>\n",
       "      <td>0.0735</td>\n",
       "      <td>0.017</td>\n",
       "      <td>0.000016</td>\n",
       "      <td>0.179</td>\n",
       "      <td>0.623</td>\n",
       "      <td>80.002</td>\n",
       "      <td>4.0</td>\n",
       "    </tr>\n",
       "    <tr>\n",
       "      <th>1</th>\n",
       "      <td>The Ones That Didn't Make It Back HomeJustin M...</td>\n",
       "      <td>Justin Moore</td>\n",
       "      <td>The Ones That Didn't Make It Back Home</td>\n",
       "      <td>['arkansas country', 'contemporary country', '...</td>\n",
       "      <td>NaN</td>\n",
       "      <td>NaN</td>\n",
       "      <td>NaN</td>\n",
       "      <td>NaN</td>\n",
       "      <td>NaN</td>\n",
       "      <td>NaN</td>\n",
       "      <td>...</td>\n",
       "      <td>NaN</td>\n",
       "      <td>NaN</td>\n",
       "      <td>NaN</td>\n",
       "      <td>NaN</td>\n",
       "      <td>NaN</td>\n",
       "      <td>NaN</td>\n",
       "      <td>NaN</td>\n",
       "      <td>NaN</td>\n",
       "      <td>NaN</td>\n",
       "      <td>NaN</td>\n",
       "    </tr>\n",
       "    <tr>\n",
       "      <th>2</th>\n",
       "      <td>ShallowLady Gaga &amp; Bradley Cooper</td>\n",
       "      <td>Lady Gaga &amp; Bradley Cooper</td>\n",
       "      <td>Shallow</td>\n",
       "      <td>['dance pop', 'pop']</td>\n",
       "      <td>2VxeLyX666F8uXCJ0dZF8B</td>\n",
       "      <td>NaN</td>\n",
       "      <td>A Star Is Born Soundtrack</td>\n",
       "      <td>False</td>\n",
       "      <td>215733.0</td>\n",
       "      <td>88.0</td>\n",
       "      <td>...</td>\n",
       "      <td>7.0</td>\n",
       "      <td>-6.362</td>\n",
       "      <td>1.0</td>\n",
       "      <td>0.0308</td>\n",
       "      <td>0.371</td>\n",
       "      <td>0.000000</td>\n",
       "      <td>0.231</td>\n",
       "      <td>0.323</td>\n",
       "      <td>95.799</td>\n",
       "      <td>4.0</td>\n",
       "    </tr>\n",
       "  </tbody>\n",
       "</table>\n",
       "<p>3 rows × 22 columns</p>\n",
       "</div>"
      ],
      "text/plain": [
       "                                              SongID  \\\n",
       "0                      AdictoTainy, Anuel AA & Ozuna   \n",
       "1  The Ones That Didn't Make It Back HomeJustin M...   \n",
       "2                  ShallowLady Gaga & Bradley Cooper   \n",
       "\n",
       "                    Performer                                    Song  \\\n",
       "0     Tainy, Anuel AA & Ozuna                                  Adicto   \n",
       "1                Justin Moore  The Ones That Didn't Make It Back Home   \n",
       "2  Lady Gaga & Bradley Cooper                                 Shallow   \n",
       "\n",
       "                                       spotify_genre        spotify_track_id  \\\n",
       "0                                  ['pop reggaeton']  3jbT1Y5MoPwEIpZndDDwVq   \n",
       "1  ['arkansas country', 'contemporary country', '...                     NaN   \n",
       "2                               ['dance pop', 'pop']  2VxeLyX666F8uXCJ0dZF8B   \n",
       "\n",
       "  spotify_track_preview_url             spotify_track_album  \\\n",
       "0                       NaN  Adicto (with Anuel AA & Ozuna)   \n",
       "1                       NaN                             NaN   \n",
       "2                       NaN       A Star Is Born Soundtrack   \n",
       "\n",
       "  spotify_track_explicit  spotify_track_duration_ms  spotify_track_popularity  \\\n",
       "0                  False                   270740.0                      91.0   \n",
       "1                    NaN                        NaN                       NaN   \n",
       "2                  False                   215733.0                      88.0   \n",
       "\n",
       "   ...   key  loudness  mode  speechiness  acousticness  instrumentalness  \\\n",
       "0  ...  10.0    -4.803   0.0       0.0735         0.017          0.000016   \n",
       "1  ...   NaN       NaN   NaN          NaN           NaN               NaN   \n",
       "2  ...   7.0    -6.362   1.0       0.0308         0.371          0.000000   \n",
       "\n",
       "   liveness  valence   tempo  time_signature  \n",
       "0     0.179    0.623  80.002             4.0  \n",
       "1       NaN      NaN     NaN             NaN  \n",
       "2     0.231    0.323  95.799             4.0  \n",
       "\n",
       "[3 rows x 22 columns]"
      ]
     },
     "execution_count": 4,
     "metadata": {},
     "output_type": "execute_result"
    }
   ],
   "source": [
    "features.head(3)"
   ]
  },
  {
   "cell_type": "markdown",
   "metadata": {},
   "source": [
    "### 2B. Preprocessing the DataFrames: Merging, Cleaning, and More!\n",
    "You might see this as the most boring part of data science, but it's a necessary evil, and extremely important for the rest of the process.  We'll start by merging the Ranks and Features dataframes together on the SongID column. We only want to analyze songs that are present in both dataframes so we will be performing an inner join."
   ]
  },
  {
   "cell_type": "code",
   "execution_count": 5,
   "metadata": {},
   "outputs": [
    {
     "data": {
      "text/html": [
       "<div>\n",
       "<style scoped>\n",
       "    .dataframe tbody tr th:only-of-type {\n",
       "        vertical-align: middle;\n",
       "    }\n",
       "\n",
       "    .dataframe tbody tr th {\n",
       "        vertical-align: top;\n",
       "    }\n",
       "\n",
       "    .dataframe thead th {\n",
       "        text-align: right;\n",
       "    }\n",
       "</style>\n",
       "<table border=\"1\" class=\"dataframe\">\n",
       "  <thead>\n",
       "    <tr style=\"text-align: right;\">\n",
       "      <th></th>\n",
       "      <th>url</th>\n",
       "      <th>WeekID</th>\n",
       "      <th>Week Position</th>\n",
       "      <th>Song_x</th>\n",
       "      <th>Performer_x</th>\n",
       "      <th>SongID</th>\n",
       "      <th>Instance</th>\n",
       "      <th>Previous Week Position</th>\n",
       "      <th>Peak Position</th>\n",
       "      <th>Weeks on Chart</th>\n",
       "      <th>...</th>\n",
       "      <th>key</th>\n",
       "      <th>loudness</th>\n",
       "      <th>mode</th>\n",
       "      <th>speechiness</th>\n",
       "      <th>acousticness</th>\n",
       "      <th>instrumentalness</th>\n",
       "      <th>liveness</th>\n",
       "      <th>valence</th>\n",
       "      <th>tempo</th>\n",
       "      <th>time_signature</th>\n",
       "    </tr>\n",
       "  </thead>\n",
       "  <tbody>\n",
       "    <tr>\n",
       "      <th>0</th>\n",
       "      <td>https://www.billboard.com/charts/hot-100/2019-...</td>\n",
       "      <td>2/2/2019</td>\n",
       "      <td>1</td>\n",
       "      <td>7 Rings</td>\n",
       "      <td>Ariana Grande</td>\n",
       "      <td>7 RingsAriana Grande</td>\n",
       "      <td>1</td>\n",
       "      <td>NaN</td>\n",
       "      <td>1</td>\n",
       "      <td>1</td>\n",
       "      <td>...</td>\n",
       "      <td>1.0</td>\n",
       "      <td>-10.732</td>\n",
       "      <td>0.0</td>\n",
       "      <td>0.334</td>\n",
       "      <td>0.592</td>\n",
       "      <td>0.0</td>\n",
       "      <td>0.0881</td>\n",
       "      <td>0.327</td>\n",
       "      <td>140.048</td>\n",
       "      <td>4.0</td>\n",
       "    </tr>\n",
       "    <tr>\n",
       "      <th>1</th>\n",
       "      <td>https://www.billboard.com/charts/hot-100/2019-...</td>\n",
       "      <td>5/25/2019</td>\n",
       "      <td>11</td>\n",
       "      <td>7 Rings</td>\n",
       "      <td>Ariana Grande</td>\n",
       "      <td>7 RingsAriana Grande</td>\n",
       "      <td>1</td>\n",
       "      <td>10.0</td>\n",
       "      <td>1</td>\n",
       "      <td>17</td>\n",
       "      <td>...</td>\n",
       "      <td>1.0</td>\n",
       "      <td>-10.732</td>\n",
       "      <td>0.0</td>\n",
       "      <td>0.334</td>\n",
       "      <td>0.592</td>\n",
       "      <td>0.0</td>\n",
       "      <td>0.0881</td>\n",
       "      <td>0.327</td>\n",
       "      <td>140.048</td>\n",
       "      <td>4.0</td>\n",
       "    </tr>\n",
       "    <tr>\n",
       "      <th>2</th>\n",
       "      <td>https://www.billboard.com/charts/hot-100/2019-...</td>\n",
       "      <td>4/20/2019</td>\n",
       "      <td>4</td>\n",
       "      <td>7 Rings</td>\n",
       "      <td>Ariana Grande</td>\n",
       "      <td>7 RingsAriana Grande</td>\n",
       "      <td>1</td>\n",
       "      <td>3.0</td>\n",
       "      <td>1</td>\n",
       "      <td>12</td>\n",
       "      <td>...</td>\n",
       "      <td>1.0</td>\n",
       "      <td>-10.732</td>\n",
       "      <td>0.0</td>\n",
       "      <td>0.334</td>\n",
       "      <td>0.592</td>\n",
       "      <td>0.0</td>\n",
       "      <td>0.0881</td>\n",
       "      <td>0.327</td>\n",
       "      <td>140.048</td>\n",
       "      <td>4.0</td>\n",
       "    </tr>\n",
       "  </tbody>\n",
       "</table>\n",
       "<p>3 rows × 31 columns</p>\n",
       "</div>"
      ],
      "text/plain": [
       "                                                 url     WeekID  \\\n",
       "0  https://www.billboard.com/charts/hot-100/2019-...   2/2/2019   \n",
       "1  https://www.billboard.com/charts/hot-100/2019-...  5/25/2019   \n",
       "2  https://www.billboard.com/charts/hot-100/2019-...  4/20/2019   \n",
       "\n",
       "   Week Position   Song_x    Performer_x                SongID  Instance  \\\n",
       "0              1  7 Rings  Ariana Grande  7 RingsAriana Grande         1   \n",
       "1             11  7 Rings  Ariana Grande  7 RingsAriana Grande         1   \n",
       "2              4  7 Rings  Ariana Grande  7 RingsAriana Grande         1   \n",
       "\n",
       "   Previous Week Position  Peak Position  Weeks on Chart  ...  key loudness  \\\n",
       "0                     NaN              1               1  ...  1.0  -10.732   \n",
       "1                    10.0              1              17  ...  1.0  -10.732   \n",
       "2                     3.0              1              12  ...  1.0  -10.732   \n",
       "\n",
       "  mode speechiness acousticness instrumentalness liveness  valence    tempo  \\\n",
       "0  0.0       0.334        0.592              0.0   0.0881    0.327  140.048   \n",
       "1  0.0       0.334        0.592              0.0   0.0881    0.327  140.048   \n",
       "2  0.0       0.334        0.592              0.0   0.0881    0.327  140.048   \n",
       "\n",
       "   time_signature  \n",
       "0             4.0  \n",
       "1             4.0  \n",
       "2             4.0  \n",
       "\n",
       "[3 rows x 31 columns]"
      ]
     },
     "execution_count": 5,
     "metadata": {},
     "output_type": "execute_result"
    }
   ],
   "source": [
    "songs = pd.merge(ranks, features, on='SongID', how='inner')\n",
    "songs.head(3)"
   ]
  },
  {
   "cell_type": "markdown",
   "metadata": {},
   "source": [
    "This table is simply massive and very clumsy, so we need to do a fair amount of dropping rows and columns. We'll drop any duplicate columns and columns not relevant to our analysis. Additionally, we only want to consider unique, complete rows with no NaN values. "
   ]
  },
  {
   "cell_type": "code",
   "execution_count": 6,
   "metadata": {},
   "outputs": [],
   "source": [
    "# remove columns that we won't use \n",
    "cols_remove = ['url', 'Performer_y', 'Song_y', 'Weeks on Chart', 'Peak Position', \\\n",
    "               'Previous Week Position', 'Instance', 'spotify_track_id', \\\n",
    "               'spotify_track_preview_url', 'spotify_track_album', \\\n",
    "               'spotify_track_explicit', 'spotify_track_duration_ms' \\\n",
    "              ]\n",
    "songs.drop(cols_remove, axis = 1, inplace=True)\n",
    "\n",
    "# rename columns\n",
    "songs.rename(columns={'Performer_x': 'Performer', 'Song_x': 'Song', 'Week Position': 'Rank'}, inplace=True)\n",
    "\n",
    "# remove rows with duplicate SongIDs and rows containing NaN \n",
    "songs = songs.drop_duplicates(subset='SongID', keep='first')\n",
    "songs = songs.dropna()"
   ]
  },
  {
   "cell_type": "markdown",
   "metadata": {},
   "source": [
    "Now, we want to encode the weekID as Datetime objects, which lets us to sort and subdivide our DataFrame more easily later on. For convenience of visualization, we have a year column in addition to a complete Date."
   ]
  },
  {
   "cell_type": "code",
   "execution_count": 7,
   "metadata": {},
   "outputs": [],
   "source": [
    "# append new columns\n",
    "dt = []\n",
    "years = []\n",
    "for row_index, row in songs.iterrows():\n",
    "    temp = datetime.datetime.strptime(songs.at[row_index, 'WeekID'], '%m/%d/%Y')\n",
    "    dt.append(temp)\n",
    "    years.append(temp.year)\n",
    "songs['Datetime'] = dt\n",
    "songs['Year'] = years\n",
    "\n",
    "# we can drop the weekID column now\n",
    "songs.drop('WeekID', axis = 1, inplace=True)\n",
    "\n",
    "# sort and reset\n",
    "songs = songs.sort_values(by=['Datetime', 'Rank'])\n",
    "songs.reset_index(drop=True, inplace=True)\n",
    "songs.to_csv(\"dup.csv\")"
   ]
  },
  {
   "cell_type": "markdown",
   "metadata": {},
   "source": [
    "The complete DataFrame after merging and preprocessing:"
   ]
  },
  {
   "cell_type": "code",
   "execution_count": 8,
   "metadata": {},
   "outputs": [
    {
     "data": {
      "text/html": [
       "<div>\n",
       "<style scoped>\n",
       "    .dataframe tbody tr th:only-of-type {\n",
       "        vertical-align: middle;\n",
       "    }\n",
       "\n",
       "    .dataframe tbody tr th {\n",
       "        vertical-align: top;\n",
       "    }\n",
       "\n",
       "    .dataframe thead th {\n",
       "        text-align: right;\n",
       "    }\n",
       "</style>\n",
       "<table border=\"1\" class=\"dataframe\">\n",
       "  <thead>\n",
       "    <tr style=\"text-align: right;\">\n",
       "      <th></th>\n",
       "      <th>Rank</th>\n",
       "      <th>Song</th>\n",
       "      <th>Performer</th>\n",
       "      <th>SongID</th>\n",
       "      <th>spotify_genre</th>\n",
       "      <th>spotify_track_popularity</th>\n",
       "      <th>danceability</th>\n",
       "      <th>energy</th>\n",
       "      <th>key</th>\n",
       "      <th>loudness</th>\n",
       "      <th>mode</th>\n",
       "      <th>speechiness</th>\n",
       "      <th>acousticness</th>\n",
       "      <th>instrumentalness</th>\n",
       "      <th>liveness</th>\n",
       "      <th>valence</th>\n",
       "      <th>tempo</th>\n",
       "      <th>time_signature</th>\n",
       "      <th>Datetime</th>\n",
       "      <th>Year</th>\n",
       "    </tr>\n",
       "  </thead>\n",
       "  <tbody>\n",
       "    <tr>\n",
       "      <th>0</th>\n",
       "      <td>5</td>\n",
       "      <td>When</td>\n",
       "      <td>Kalin Twins</td>\n",
       "      <td>WhenKalin Twins</td>\n",
       "      <td>['doo-wop', 'rock-and-roll']</td>\n",
       "      <td>20.0</td>\n",
       "      <td>0.646</td>\n",
       "      <td>0.582</td>\n",
       "      <td>6.0</td>\n",
       "      <td>-12.679</td>\n",
       "      <td>1.0</td>\n",
       "      <td>0.0297</td>\n",
       "      <td>0.168</td>\n",
       "      <td>0.000005</td>\n",
       "      <td>0.976</td>\n",
       "      <td>0.963</td>\n",
       "      <td>96.490</td>\n",
       "      <td>4.0</td>\n",
       "      <td>1958-08-02</td>\n",
       "      <td>1958</td>\n",
       "    </tr>\n",
       "    <tr>\n",
       "      <th>1</th>\n",
       "      <td>7</td>\n",
       "      <td>Yakety Yak</td>\n",
       "      <td>The Coasters</td>\n",
       "      <td>Yakety YakThe Coasters</td>\n",
       "      <td>['brill building pop', 'bubblegum pop', 'doo-w...</td>\n",
       "      <td>56.0</td>\n",
       "      <td>0.715</td>\n",
       "      <td>0.669</td>\n",
       "      <td>7.0</td>\n",
       "      <td>-9.491</td>\n",
       "      <td>1.0</td>\n",
       "      <td>0.1280</td>\n",
       "      <td>0.705</td>\n",
       "      <td>0.000732</td>\n",
       "      <td>0.044</td>\n",
       "      <td>0.976</td>\n",
       "      <td>120.789</td>\n",
       "      <td>4.0</td>\n",
       "      <td>1958-08-02</td>\n",
       "      <td>1958</td>\n",
       "    </tr>\n",
       "    <tr>\n",
       "      <th>2</th>\n",
       "      <td>8</td>\n",
       "      <td>My True Love</td>\n",
       "      <td>Jack Scott</td>\n",
       "      <td>My True LoveJack Scott</td>\n",
       "      <td>['brill building pop', 'deep adult standards',...</td>\n",
       "      <td>26.0</td>\n",
       "      <td>0.548</td>\n",
       "      <td>0.253</td>\n",
       "      <td>4.0</td>\n",
       "      <td>-11.387</td>\n",
       "      <td>1.0</td>\n",
       "      <td>0.0279</td>\n",
       "      <td>0.871</td>\n",
       "      <td>0.000099</td>\n",
       "      <td>0.138</td>\n",
       "      <td>0.238</td>\n",
       "      <td>68.184</td>\n",
       "      <td>3.0</td>\n",
       "      <td>1958-08-02</td>\n",
       "      <td>1958</td>\n",
       "    </tr>\n",
       "  </tbody>\n",
       "</table>\n",
       "</div>"
      ],
      "text/plain": [
       "   Rank          Song     Performer                  SongID  \\\n",
       "0     5          When   Kalin Twins         WhenKalin Twins   \n",
       "1     7    Yakety Yak  The Coasters  Yakety YakThe Coasters   \n",
       "2     8  My True Love    Jack Scott  My True LoveJack Scott   \n",
       "\n",
       "                                       spotify_genre  \\\n",
       "0                       ['doo-wop', 'rock-and-roll']   \n",
       "1  ['brill building pop', 'bubblegum pop', 'doo-w...   \n",
       "2  ['brill building pop', 'deep adult standards',...   \n",
       "\n",
       "   spotify_track_popularity  danceability  energy  key  loudness  mode  \\\n",
       "0                      20.0         0.646   0.582  6.0   -12.679   1.0   \n",
       "1                      56.0         0.715   0.669  7.0    -9.491   1.0   \n",
       "2                      26.0         0.548   0.253  4.0   -11.387   1.0   \n",
       "\n",
       "   speechiness  acousticness  instrumentalness  liveness  valence    tempo  \\\n",
       "0       0.0297         0.168          0.000005     0.976    0.963   96.490   \n",
       "1       0.1280         0.705          0.000732     0.044    0.976  120.789   \n",
       "2       0.0279         0.871          0.000099     0.138    0.238   68.184   \n",
       "\n",
       "   time_signature   Datetime  Year  \n",
       "0             4.0 1958-08-02  1958  \n",
       "1             4.0 1958-08-02  1958  \n",
       "2             3.0 1958-08-02  1958  "
      ]
     },
     "execution_count": 8,
     "metadata": {},
     "output_type": "execute_result"
    }
   ],
   "source": [
    "songs.head(3)"
   ]
  },
  {
   "cell_type": "markdown",
   "metadata": {},
   "source": [
    "## 3. Exploratory Data Analysis\n",
    "\n",
    "### 3A: Acoustic Features\n",
    "\n",
    "Before we start considering any one feature or a subset of our data, we need an idea of some of the trends in the data as a whole. Spotify's acoustic features are a perfect place to start.\n",
    "\n",
    "We'll examine the following features for relationships to year: acousticness, danceability, energy, instrumentalness, liveness, loudness, speechiness, valence, and tempo. Each year's data is calculated by taking the mean over all the songs for that year.\n",
    "\n",
    "Note that the key, mode and time signature are excluded here. Key and mode are categorical variables, and time signatures are ratios, so taking the mean of those simply makes no sense in this context. \n",
    "\n",
    "For a reminder on what each of the the acoustic features means, check out this [page.](https://developer.spotify.com/documentation/web-api/reference/tracks/get-audio-features/)"
   ]
  },
  {
   "cell_type": "code",
   "execution_count": 9,
   "metadata": {},
   "outputs": [
    {
     "data": {
      "text/html": [
       "<div>\n",
       "<style scoped>\n",
       "    .dataframe tbody tr th:only-of-type {\n",
       "        vertical-align: middle;\n",
       "    }\n",
       "\n",
       "    .dataframe tbody tr th {\n",
       "        vertical-align: top;\n",
       "    }\n",
       "\n",
       "    .dataframe thead th {\n",
       "        text-align: right;\n",
       "    }\n",
       "</style>\n",
       "<table border=\"1\" class=\"dataframe\">\n",
       "  <thead>\n",
       "    <tr style=\"text-align: right;\">\n",
       "      <th></th>\n",
       "      <th>Year</th>\n",
       "      <th>danceability</th>\n",
       "      <th>energy</th>\n",
       "      <th>key</th>\n",
       "      <th>loudness</th>\n",
       "      <th>mode</th>\n",
       "      <th>speechiness</th>\n",
       "      <th>acousticness</th>\n",
       "      <th>instrumentalness</th>\n",
       "      <th>liveness</th>\n",
       "      <th>valence</th>\n",
       "      <th>tempo</th>\n",
       "      <th>time_signature</th>\n",
       "    </tr>\n",
       "  </thead>\n",
       "  <tbody>\n",
       "    <tr>\n",
       "      <th>0</th>\n",
       "      <td>1958</td>\n",
       "      <td>0.545568</td>\n",
       "      <td>0.481923</td>\n",
       "      <td>5.187793</td>\n",
       "      <td>-10.630939</td>\n",
       "      <td>0.863850</td>\n",
       "      <td>0.054967</td>\n",
       "      <td>0.692187</td>\n",
       "      <td>0.054903</td>\n",
       "      <td>0.201030</td>\n",
       "      <td>0.678357</td>\n",
       "      <td>113.433728</td>\n",
       "      <td>3.727700</td>\n",
       "    </tr>\n",
       "    <tr>\n",
       "      <th>1</th>\n",
       "      <td>1959</td>\n",
       "      <td>0.522213</td>\n",
       "      <td>0.474698</td>\n",
       "      <td>4.964481</td>\n",
       "      <td>-11.236795</td>\n",
       "      <td>0.846995</td>\n",
       "      <td>0.058178</td>\n",
       "      <td>0.667785</td>\n",
       "      <td>0.063212</td>\n",
       "      <td>0.187984</td>\n",
       "      <td>0.655242</td>\n",
       "      <td>117.028060</td>\n",
       "      <td>3.795082</td>\n",
       "    </tr>\n",
       "    <tr>\n",
       "      <th>2</th>\n",
       "      <td>1960</td>\n",
       "      <td>0.509966</td>\n",
       "      <td>0.448055</td>\n",
       "      <td>5.106796</td>\n",
       "      <td>-11.003825</td>\n",
       "      <td>0.864078</td>\n",
       "      <td>0.048328</td>\n",
       "      <td>0.671454</td>\n",
       "      <td>0.069289</td>\n",
       "      <td>0.210367</td>\n",
       "      <td>0.634000</td>\n",
       "      <td>116.993687</td>\n",
       "      <td>3.762136</td>\n",
       "    </tr>\n",
       "  </tbody>\n",
       "</table>\n",
       "</div>"
      ],
      "text/plain": [
       "   Year  danceability    energy       key   loudness      mode  speechiness  \\\n",
       "0  1958      0.545568  0.481923  5.187793 -10.630939  0.863850     0.054967   \n",
       "1  1959      0.522213  0.474698  4.964481 -11.236795  0.846995     0.058178   \n",
       "2  1960      0.509966  0.448055  5.106796 -11.003825  0.864078     0.048328   \n",
       "\n",
       "   acousticness  instrumentalness  liveness   valence       tempo  \\\n",
       "0      0.692187          0.054903  0.201030  0.678357  113.433728   \n",
       "1      0.667785          0.063212  0.187984  0.655242  117.028060   \n",
       "2      0.671454          0.069289  0.210367  0.634000  116.993687   \n",
       "\n",
       "   time_signature  \n",
       "0        3.727700  \n",
       "1        3.795082  \n",
       "2        3.762136  "
      ]
     },
     "execution_count": 9,
     "metadata": {},
     "output_type": "execute_result"
    }
   ],
   "source": [
    "# find the average of each feature per year\n",
    "df = songs.copy()\n",
    "\n",
    "acoustic_features = ['danceability','energy', 'key', 'loudness',\n",
    "                     'mode', 'speechiness', 'acousticness', 'instrumentalness', 'liveness',\n",
    "                     'valence', 'tempo', 'time_signature']\n",
    "\n",
    "feature_averages = df.groupby([\"Year\"])[acoustic_features].mean()\n",
    "feature_averages.reset_index(inplace=True)\n",
    "\n",
    "feature_averages.head(3)"
   ]
  },
  {
   "cell_type": "markdown",
   "metadata": {},
   "source": [
    "Let's go ahead and plot these values, since the raw numbers don't mean much to the human eye."
   ]
  },
  {
   "cell_type": "code",
   "execution_count": 10,
   "metadata": {},
   "outputs": [
    {
     "data": {
      "image/png": "[encoded data removed]",
      "text/plain": [
       "<Figure size 1080x720 with 9 Axes>"
      ]
     },
     "metadata": {
      "needs_background": "light"
     },
     "output_type": "display_data"
    }
   ],
   "source": [
    "# Generate Plots\n",
    "fig, axs = plt.subplots(3, 3, figsize=(15,10))\n",
    "\n",
    "x = feature_averages['Year']\n",
    "\n",
    "# Plot Danceability\n",
    "axs[0, 0].plot(x, feature_averages['danceability'],  'tab:red')\n",
    "axs[0, 0].set_title(\"Danceability in Songs Over Time\")\n",
    "axs[0, 0].set(ylabel='Danceability')\n",
    "\n",
    "# Plot Loudness\n",
    "axs[0, 1].plot(x, feature_averages['loudness'], 'tab:orange')\n",
    "axs[0, 1].set_title(\"Loudness in Songs Over Time\")\n",
    "axs[0, 1].set(ylabel='Loudness')\n",
    "\n",
    "# Plot Acousticness\n",
    "axs[0, 2].plot(x, feature_averages['acousticness'], 'tab:green')\n",
    "axs[0, 2].set_title(\"Acousticness in Songs Over Time\")\n",
    "axs[0, 2].set(ylabel='Acousticness')\n",
    "\n",
    "# Plot Energy\n",
    "axs[1, 0].plot(x, feature_averages['energy'], 'tab:blue')\n",
    "axs[1, 0].set_title(\"Energy in Songs Over Time\")\n",
    "axs[1, 0].set(ylabel='Energy')\n",
    "\n",
    "# Plot Speechiness \n",
    "axs[1, 1].plot(x, feature_averages['speechiness'], 'tab:purple')\n",
    "axs[1, 1].set_title(\"Speechiness in Songs Over Time\")\n",
    "axs[1, 1].set(ylabel='Speechiness')\n",
    "\n",
    "# Plot Instrumentalness\n",
    "axs[1, 2].plot(x, feature_averages['instrumentalness'], 'tab:brown')\n",
    "axs[1, 2].set_title(\"Instrumentalness in Songs Over Time\")\n",
    "axs[1, 2].set(ylabel='Instrumentalness')\n",
    "\n",
    "# Plot Liveness\n",
    "axs[2, 0].plot(x, feature_averages['liveness'], 'tab:red')\n",
    "axs[2, 0].set_title(\"Liveness in Songs Over Time\")\n",
    "axs[2, 0].set(ylabel='Liveness')\n",
    "\n",
    "# Plot Valence\n",
    "axs[2, 1].plot(x, feature_averages['valence'], 'tab:orange')\n",
    "axs[2, 1].set_title(\"Valence in Songs Over Time\")\n",
    "axs[2, 1].set(ylabel='Valence')\n",
    "\n",
    "# Plot Tempo\n",
    "axs[2, 2].plot(x, feature_averages['tempo'], 'tab:green')\n",
    "axs[2, 2].set_title(\"Tempo in Songs Over Time\")\n",
    "axs[2, 2].set(ylabel='Tempo')\n",
    "\n",
    "# Set x axis labels to Year\n",
    "for ax in axs.flat:\n",
    "    ax.set(xlabel='Year')\n",
    "    \n",
    "fig.tight_layout()"
   ]
  },
  {
   "cell_type": "markdown",
   "metadata": {},
   "source": [
    "#### What do these plots tell us? \n",
    "\n",
    "Analyzing the acoustic features of songs over time gives us interesting results. Some of the plots have a definite general trend: acousticness decreases while speechiness increases, likely due to the rise in electronic music and rap. Some have dramatic dips: songs around 2010 were significantly less danceable, and from 1990-2005, they were dramatically slower. Each plot shows us that what makes music popular has definitely evolved over time."
   ]
  },
  {
   "cell_type": "markdown",
   "metadata": {},
   "source": [
    "### 3B. Sentiment Analysis\n",
    "\n",
    "We've looked at acoustic features and their relationship to time, but we can consider another facet of the music: the lyrics! We'll turn to sentiment analysis for this. In brief, sentiment analysis is technique that comes from Natural Language Processing that allows us to quantify the emotion found in text. More information can be found [here.](https://monkeylearn.com/sentiment-analysis/) This would usually fall under machine learning, rather than EDA, but with the package we're using (explained below), the analysis does not require training a model."
   ]
  },
  {
   "cell_type": "markdown",
   "metadata": {},
   "source": [
    "#### Preparation: Sampling Songs\n",
    "\n",
    "Because this is a more involved analysis, we want to narrow our dataset to a more mangaeable size. Previously, we removed all duplicate songs from the table, so we're only left with the unique ones. Out of this, I'd like to sample the most popular ones, which will have high rankings in the dataset.\n",
    "\n",
    "We'll start by splitting the table roughly into decades, with 1958 and 1959 getting mixed in with the 1960s, and 2010-2019 almost being a complete decade."
   ]
  },
  {
   "cell_type": "code",
   "execution_count": 11,
   "metadata": {},
   "outputs": [],
   "source": [
    "sixties = songs[songs.Year < 1970]\n",
    "seventies = songs[(songs.Year >= 1970) & (songs.Year < 1980)]\n",
    "eighties = songs[(songs.Year >= 1980) & (songs.Year < 1990)]\n",
    "nineties = songs[(songs.Year >= 1990) & (songs.Year < 2000)]\n",
    "thousands = songs[(songs.Year >= 2000) & (songs.Year < 2010)]\n",
    "tens = songs[songs.Year >= 2010]"
   ]
  },
  {
   "cell_type": "markdown",
   "metadata": {},
   "source": [
    "Then, we can sample the top 100 songs from each time period, giving us 600 in total."
   ]
  },
  {
   "cell_type": "code",
   "execution_count": 12,
   "metadata": {},
   "outputs": [],
   "source": [
    "songs_sampled = sixties.sort_values(by='Rank')[0:100]\n",
    "songs_sampled = songs_sampled.append(seventies.sort_values(by='Rank')[0:100])\n",
    "songs_sampled = songs_sampled.append(eighties.sort_values(by='Rank')[0:100])\n",
    "songs_sampled = songs_sampled.append(nineties.sort_values(by='Rank')[0:100])\n",
    "songs_sampled = songs_sampled.append(thousands.sort_values(by='Rank')[0:100])\n",
    "songs_sampled = songs_sampled.append(tens.sort_values(by='Rank')[0:100])\n",
    "songs_sampled.reset_index(inplace=True)"
   ]
  },
  {
   "cell_type": "markdown",
   "metadata": {},
   "source": [
    "Let's plot the distribution of our sampled songs to ensure we have a good representative sample over time."
   ]
  },
  {
   "cell_type": "code",
   "execution_count": 13,
   "metadata": {},
   "outputs": [
    {
     "data": {
      "image/png": "[encoded data removed]",
      "text/plain": [
       "<Figure size 1080x720 with 1 Axes>"
      ]
     },
     "metadata": {
      "needs_background": "light"
     },
     "output_type": "display_data"
    }
   ],
   "source": [
    "years = np.arange(1958, 2020)\n",
    "year_counts = [0] * len(years)\n",
    "for row_index, row in songs_sampled.iterrows():\n",
    "    song_year = songs_sampled.at[row_index, 'Year']\n",
    "    year_counts[song_year-1958] += 1\n",
    "\n",
    "fig, ax = plt.subplots(figsize=(15,10))\n",
    "ax = sns.barplot(years, year_counts)\n",
    "\n",
    "counter = 0\n",
    "for label in ax.get_xticklabels():\n",
    "    if counter % 10 != 0:\n",
    "        label.set_visible(False)\n",
    "    counter += 1"
   ]
  },
  {
   "cell_type": "markdown",
   "metadata": {},
   "source": [
    "Looks like a good sample! Of course, it's not perfect, since there appear to be a few years that had quite a few more songs than others. This could be due to our dropping duplicate rows, if some spectacular songs stayed on the charts across multiple years. Either way, though, this works for what we want to do."
   ]
  },
  {
   "cell_type": "markdown",
   "metadata": {},
   "source": [
    "#### Getting Song Lyrics with LyricsGenius\n",
    "\n",
    "To get the song lyrics we need, we could manually find each song on a website like Genius and scrape the lyrics... but we can be smarter about it. Genius has a [free API](https://docs.genius.com/) (that requires project registration) that allows you to query for lyrics!  We can take this one step further, with a package designed by John Miller called [LyricsGenius](https://github.com/johnwmillr/LyricsGenius). This package enables us to query the Genius API much more intuitively, making this task much easier.\n",
    "\n",
    "Before using it for our purposes, let's take a look at how it works. **(NEED TO FIND A WAY TO HIDE API TOKEN BEFORE POSTING)**"
   ]
  },
  {
   "cell_type": "code",
   "execution_count": 14,
   "metadata": {},
   "outputs": [],
   "source": [
    "genius = lyricsgenius.Genius('EJqlckWu_h-lDQ8fVR8XOHpKJuEPV1liGiavTav-Y5y1QC1OrUy6AqYFD-VHl8YC')\n",
    "genius.remove_section_headers = True"
   ]
  },
  {
   "cell_type": "markdown",
   "metadata": {},
   "source": [
    "The above code sets up our LyricsGenius object with a developer token (that can be generated for a new project [here](https://docs.genius.com/)) and allows us to get the pure text of the lyrics without any headers like [Chorus]. If we wanted to only analyze the choruses of our songs, we could leave that setting disabled.\n",
    "\n",
    "To actually get the song lyrics, we can just pass in a song and artist name into the LyricsGenius object."
   ]
  },
  {
   "cell_type": "code",
   "execution_count": 15,
   "metadata": {},
   "outputs": [
    {
     "name": "stdout",
     "output_type": "stream",
     "text": [
      "Searching for \"Never Gonna Give You Up\" by Rick Astley...\n",
      "Done.\n"
     ]
    }
   ],
   "source": [
    "example = genius.search_song('Never Gonna Give You Up', 'Rick Astley')"
   ]
  },
  {
   "cell_type": "markdown",
   "metadata": {},
   "source": [
    "This either returns a NoneType if not found, or a Song object, from which we can get the lyrics:"
   ]
  },
  {
   "cell_type": "code",
   "execution_count": 16,
   "metadata": {},
   "outputs": [
    {
     "name": "stdout",
     "output_type": "stream",
     "text": [
      "We're no strangers to love\n",
      "You know the rules and so do I\n",
      "A full commitment's what I'm thinking of\n",
      "You wouldn't get this from any other guy\n",
      "\n",
      "I just wanna tell you how I'm feeling\n",
      "Gotta make you understand\n",
      "\n",
      "Never gonna give you up\n",
      "Never gonna let you down\n",
      "Never gonna run around and desert you\n",
      "Never gonna make you cry\n",
      "Never gonna say goodbye\n",
      "Never gonna tell a lie and hurt you\n",
      "\n",
      "We've known each other for so long\n",
      "Your heart's been aching but you're too shy to say it\n",
      "Inside we both know what's been going on\n",
      "We know the game and we're gonna play it\n",
      "\n",
      "And if you ask me how I'm feeling\n",
      "Don't tell me you're too blind to see\n",
      "\n",
      "Never gonna give you up\n",
      "Never gonna let you down\n",
      "Never gonna run around and desert you\n",
      "Never gonna make you cry\n",
      "Never gonna say goodbye\n",
      "Never gonna tell a lie and hurt you\n",
      "Never gonna give you up\n",
      "Never gonna let you down\n",
      "Never gonna run around and desert you\n",
      "Never gonna make you cry\n",
      "Never gonna say goodbye\n",
      "Never gonna tell a lie and hurt you\n",
      "\n",
      "(Ooh, give you up)\n",
      "(Ooh, give you up)\n",
      "(Ooh) Never gonna give, never gonna give (Give you up)\n",
      "(Ooh) Never gonna give, never gonna give (Give you up)\n",
      "\n",
      "We've known each other for so long\n",
      "Your heart's been aching but you're too shy to say it\n",
      "Inside we both know what's been going on\n",
      "We know the game and we're gonna play it\n",
      "\n",
      "I just wanna tell you how I'm feeling\n",
      "Gotta make you understand\n",
      "\n",
      "Never gonna give you up\n",
      "Never gonna let you down\n",
      "Never gonna run around and desert you\n",
      "Never gonna make you cry\n",
      "Never gonna say goodbye\n",
      "Never gonna tell a lie and hurt you\n",
      "Never gonna give you up\n",
      "Never gonna let you down\n",
      "Never gonna run around and desert you\n",
      "Never gonna make you cry\n",
      "Never gonna say goodbye\n",
      "Never gonna tell a lie and hurt you\n",
      "Never gonna give you up\n",
      "Never gonna let you down\n",
      "Never gonna run around and desert you\n",
      "Never gonna make you cry\n",
      "Never gonna say goodbye\n",
      "Never gonna tell a lie and hurt you\n"
     ]
    }
   ],
   "source": [
    "print(example.lyrics)"
   ]
  },
  {
   "cell_type": "markdown",
   "metadata": {},
   "source": [
    "Perfect! Let's throw this in a function that we can use for our data later on."
   ]
  },
  {
   "cell_type": "code",
   "execution_count": 17,
   "metadata": {},
   "outputs": [],
   "source": [
    "def get_lyrics(artist, song):\n",
    "    temp = genius.search_song(song, artist)\n",
    "    if temp is not None:\n",
    "        return temp.lyrics\n",
    "    else:\n",
    "        return None"
   ]
  },
  {
   "cell_type": "markdown",
   "metadata": {},
   "source": [
    "### 3B: Sentiment Analysis\n",
    "\n",
    "This brings us to the actual machine learning part of the analysis. There are many packages to perform sentiment analysis, but I'll be using VADER, found [here.](https://github.com/cjhutto/vaderSentiment) As stated on the webpage, this tool is \"specifically attuned to sentiments expressed in social media\", which includes emojis, typed emoticons, and slang. The emojis aren't of much use to us, but the flexibility with slang is what made it particularly attractive for this project. VADER is also different to other tools because it doesn't require training data. Instead, its sentiment lexicon is fully human-curated, and what makes me call this EDA instead of ML. \n",
    "\n",
    "Similarly to LyricsGenius, we start with making a SentimentIntensityAnalyzer. Then, we can call the polarity_scores() method on it to get our analyzed sentiment scores. VADER places emphasis on keeping the original text, rather than tokenizing, so that's what we'll do. Let's test this on our earlier lyrics."
   ]
  },
  {
   "cell_type": "code",
   "execution_count": 18,
   "metadata": {},
   "outputs": [
    {
     "data": {
      "text/plain": [
       "{'neg': 0.152, 'neu': 0.816, 'pos': 0.032, 'compound': -0.9951}"
      ]
     },
     "execution_count": 18,
     "metadata": {},
     "output_type": "execute_result"
    }
   ],
   "source": [
    "analyzer = SentimentIntensityAnalyzer();\n",
    "analyzer.polarity_scores(example.lyrics)"
   ]
  },
  {
   "cell_type": "markdown",
   "metadata": {},
   "source": [
    "We can see that VADER returns a dict of 4 values: 'neg', 'neu', 'pos', and 'compound'. The first three correspond to the negative, neutral, and positive scores, respectively. The last is the sum of the prior scores, there to help us calculate ratios if needed.\n",
    "\n",
    "#### Putting It All Together!\n",
    "\n",
    "Now, we can define a function that will first get our lyrics using LyricsGenius, and then analyze it using VADER. We'll use it to add columns to our sampled_songs DataFrame. Note that we return NaN values if the lyric query failed."
   ]
  },
  {
   "cell_type": "code",
   "execution_count": 19,
   "metadata": {},
   "outputs": [],
   "source": [
    "def get_sen_scores(artist, song):\n",
    "    lyrics = get_lyrics(artist, song)\n",
    "    if lyrics is not None:\n",
    "        scores = analyzer.polarity_scores(lyrics)\n",
    "        return scores['pos'], scores['neu'], scores['neg'], scores['compound']\n",
    "    else:\n",
    "        return np.nan, np.nan, np.nan, np.nan"
   ]
  },
  {
   "cell_type": "markdown",
   "metadata": {},
   "source": []
  },
  {
   "cell_type": "markdown",
   "metadata": {},
   "source": [
    "**(And finally, add four new columns with our sentiment analysis scores to our sampled songs!)**"
   ]
  },
  {
   "cell_type": "code",
   "execution_count": 58,
   "metadata": {},
   "outputs": [
    {
     "data": {
      "text/html": [
       "<div>\n",
       "<style scoped>\n",
       "    .dataframe tbody tr th:only-of-type {\n",
       "        vertical-align: middle;\n",
       "    }\n",
       "\n",
       "    .dataframe tbody tr th {\n",
       "        vertical-align: top;\n",
       "    }\n",
       "\n",
       "    .dataframe thead th {\n",
       "        text-align: right;\n",
       "    }\n",
       "</style>\n",
       "<table border=\"1\" class=\"dataframe\">\n",
       "  <thead>\n",
       "    <tr style=\"text-align: right;\">\n",
       "      <th></th>\n",
       "      <th>Pos_Score</th>\n",
       "      <th>Neu_Score</th>\n",
       "      <th>Neg_Score</th>\n",
       "      <th>Comp_Score</th>\n",
       "    </tr>\n",
       "  </thead>\n",
       "  <tbody>\n",
       "    <tr>\n",
       "      <th>0</th>\n",
       "      <td>0.283</td>\n",
       "      <td>0.599</td>\n",
       "      <td>0.118</td>\n",
       "      <td>0.9792</td>\n",
       "    </tr>\n",
       "    <tr>\n",
       "      <th>1</th>\n",
       "      <td>0.149</td>\n",
       "      <td>0.788</td>\n",
       "      <td>0.063</td>\n",
       "      <td>0.8934</td>\n",
       "    </tr>\n",
       "    <tr>\n",
       "      <th>2</th>\n",
       "      <td>0.122</td>\n",
       "      <td>0.797</td>\n",
       "      <td>0.081</td>\n",
       "      <td>1.0000</td>\n",
       "    </tr>\n",
       "    <tr>\n",
       "      <th>3</th>\n",
       "      <td>0.134</td>\n",
       "      <td>0.755</td>\n",
       "      <td>0.112</td>\n",
       "      <td>0.9999</td>\n",
       "    </tr>\n",
       "    <tr>\n",
       "      <th>4</th>\n",
       "      <td>0.092</td>\n",
       "      <td>0.786</td>\n",
       "      <td>0.121</td>\n",
       "      <td>-0.5120</td>\n",
       "    </tr>\n",
       "  </tbody>\n",
       "</table>\n",
       "</div>"
      ],
      "text/plain": [
       "   Pos_Score  Neu_Score  Neg_Score  Comp_Score\n",
       "0      0.283      0.599      0.118      0.9792\n",
       "1      0.149      0.788      0.063      0.8934\n",
       "2      0.122      0.797      0.081      1.0000\n",
       "3      0.134      0.755      0.112      0.9999\n",
       "4      0.092      0.786      0.121     -0.5120"
      ]
     },
     "execution_count": 58,
     "metadata": {},
     "output_type": "execute_result"
    }
   ],
   "source": [
    "polarity_scores = pd.read_csv('Polarity Scores.csv')\n",
    "\n",
    "polarity_scores.head()"
   ]
  },
  {
   "cell_type": "markdown",
   "metadata": {},
   "source": [
    "## 4. Machine Learning: Predicting the Patterns"
   ]
  },
  {
   "cell_type": "markdown",
   "metadata": {},
   "source": [
    "## 5. Insights and Conclusions"
   ]
  },
  {
   "cell_type": "code",
   "execution_count": null,
   "metadata": {},
   "outputs": [],
   "source": [
    "# def get_artist(artist_string):\n",
    "#     if ',' in artist_string: # must be three or more artists\n",
    "#         re.match((.*))\n",
    "#     elif '&' in artist_string: # must be two artists\n",
    "#     else: # only one artist\n",
    "#         return artist_string"
   ]
  },
  {
   "cell_type": "markdown",
   "metadata": {},
   "source": [
    "- need to take out &\n"
   ]
  },
  {
   "cell_type": "code",
   "execution_count": null,
   "metadata": {
    "scrolled": false
   },
   "outputs": [],
   "source": [
    "# list(songs_sampled.Performer)"
   ]
  },
  {
   "cell_type": "code",
   "execution_count": null,
   "metadata": {},
   "outputs": [],
   "source": []
  }
 ],
 "metadata": {
  "kernelspec": {
   "display_name": "Python 3",
   "language": "python",
   "name": "python3"
  },
  "language_info": {
   "codemirror_mode": {
    "name": "ipython",
    "version": 3
   },
   "file_extension": ".py",
   "mimetype": "text/x-python",
   "name": "python",
   "nbconvert_exporter": "python",
   "pygments_lexer": "ipython3",
   "version": "3.8.5"
  }
 },
 "nbformat": 4,
 "nbformat_minor": 4
}
