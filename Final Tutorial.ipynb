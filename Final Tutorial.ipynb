{
 "cells": [
  {
   "cell_type": "code",
   "execution_count": null,
   "metadata": {},
   "outputs": [],
   "source": [
    "# hi premi :D\n",
    "# hello!!"
   ]
  },
  {
   "cell_type": "markdown",
   "metadata": {},
   "source": [
    "# Insert Cool Name Here (Music Throughout the Decades: An Analysis) Or Something\n",
    "## Sarah Flores & Premvanti Patel, UMD CMSC320, Fall 2020\n",
    "\n",
    "It is no secret that over the past few decades, people's taste in music has evolved greatly. With this project, we want to explore those changes quantitatively, and more deeply than just finding the most popular genre. There were a few criteria we had to consider in this: how to find the most popular songs, and how exactly to put numbers to music.\n",
    "\n",
    "While searching, we found a [database](https://data.world/kcmillersean/billboard-hot-100-1958-2017) that would serve our purposes perfectly. It combined the Billboard Top 100 **(is that the name)** singles from 1958 to 2017, as well as acoustic features from Spotify.\n",
    "\n",
    "The Billboard Top 100 **(fix this name if it's wrong)** needs no explanation, but Spotify's acoustic features do. In 2015, [Spotify bought a small company named The Echo Nest](https://www.musicbusinessworldwide.com/spotify-acquired-echo-nest-just-e50m/) , who had designed an algorithm that classified songs into numerical acoustic features. These features include some obvious ones, such as key and time signature, but also more nuanced fields such as acousticness, danceability, and energy **(change out these features for the ones we end up analyzing)**. More information about these features, including a complete list and explanation of each, can be found [here.](https://developer.spotify.com/documentation/web-api/reference/tracks/get-audio-features/)\n",
    "\n",
    "To give ourselves a bit of a challenge and deepen the analysis even more, we decided to analyze the sentiment of the lyrics of the most popular song every year in between 1958 and 2017. **(Change that sentence based on how we actually write the code)**. With this, we'll also be able to cross-check this against the acoustic features in the database and see if we can find some patterns between the two that maybe even span across time.\n",
    "\n",
    "Here is a list of the Python packages we needed for this project.\n",
    "1. [Numpy](https://numpy.org/doc/stable/reference/index.html)\n",
    "2. [Pandas](https://pandas.pydata.org/docs/reference/index.html)\n",
    "3. [LyricsGenius](https://github.com/johnwmillr/LyricsGenius#usage)\n",
    "4. [Datetime](https://docs.python.org/3/library/datetime.html)\n",
    "4. Some sentiment analysis ones I haven't added yet, and"
   ]
  },
  {
   "cell_type": "code",
   "execution_count": null,
   "metadata": {},
   "outputs": [],
   "source": []
  },
  {
   "cell_type": "code",
   "execution_count": null,
   "metadata": {},
   "outputs": [],
   "source": []
  }
 ],
 "metadata": {
  "kernelspec": {
   "display_name": "Python 3",
   "language": "python",
   "name": "python3"
  },
  "language_info": {
   "codemirror_mode": {
    "name": "ipython",
    "version": 3
   },
   "file_extension": ".py",
   "mimetype": "text/x-python",
   "name": "python",
   "nbconvert_exporter": "python",
   "pygments_lexer": "ipython3",
   "version": "3.8.5"
  }
 },
 "nbformat": 4,
 "nbformat_minor": 4
}
