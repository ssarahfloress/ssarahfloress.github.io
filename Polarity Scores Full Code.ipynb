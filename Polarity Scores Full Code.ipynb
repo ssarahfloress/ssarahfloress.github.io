{
 "cells": [
  {
   "cell_type": "code",
   "execution_count": null,
   "metadata": {},
   "outputs": [],
   "source": [
    "arr_pos1, arr_pos2, arr_pos3, arr_pos4, arr_pos5, arr_pos6 = [], [], [], [], [], []\n",
    "arr_neu1, arr_neu2, arr_neu3, arr_neu4, arr_neu5, arr_neu6 = [], [], [], [], [], []\n",
    "arr_neg1, arr_neg2, arr_neg3, arr_neg4, arr_neg5, arr_neg6 = [], [], [], [], [], []\n",
    "arr_comp1, arr_comp2, arr_comp3, arr_comp4, arr_comp5, arr_comp6 = [], [], [], [], [], []"
   ]
  },
  {
   "cell_type": "code",
   "execution_count": null,
   "metadata": {},
   "outputs": [],
   "source": [
    "for row_index, row in songs_sampled[0:100].iterrows():\n",
    "    song = songs_sampled.at[row_index, 'Song']\n",
    "    artist = songs_sampled.at[row_index, 'Performer']\n",
    "    pos, neu, neg, comp = get_sen_scores(artist, song)\n",
    "    arr_pos1.append(pos)\n",
    "    arr_neu1.append(neu)\n",
    "    arr_neg1.append(neg)\n",
    "    arr_comp1.append(comp)"
   ]
  },
  {
   "cell_type": "code",
   "execution_count": null,
   "metadata": {},
   "outputs": [],
   "source": [
    "# in case there is a timeout, reset arrays\n",
    "#arr_pos2, arr_neu2, arr_neg2, arr_comp2 = [], [], [], []"
   ]
  },
  {
   "cell_type": "code",
   "execution_count": null,
   "metadata": {},
   "outputs": [],
   "source": [
    "for row_index, row in songs_sampled[100:200].iterrows():\n",
    "    song = songs_sampled.at[row_index, 'Song']\n",
    "    artist = songs_sampled.at[row_index, 'Performer']\n",
    "    pos, neu, neg, comp = get_sen_scores(artist, song)\n",
    "    arr_pos2.append(pos)\n",
    "    arr_neu2.append(neu)\n",
    "    arr_neg2.append(neg)\n",
    "    arr_comp2.append(comp)"
   ]
  },
  {
   "cell_type": "code",
   "execution_count": null,
   "metadata": {},
   "outputs": [],
   "source": [
    "for row_index, row in songs_sampled[200:300].iterrows():\n",
    "    song = songs_sampled.at[row_index, 'Song']\n",
    "    artist = songs_sampled.at[row_index, 'Performer']\n",
    "    pos, neu, neg, comp = get_sen_scores(artist, song)\n",
    "    arr_pos3.append(pos)\n",
    "    arr_neu3.append(neu)\n",
    "    arr_neg3.append(neg)\n",
    "    arr_comp3.append(comp)"
   ]
  },
  {
   "cell_type": "code",
   "execution_count": null,
   "metadata": {},
   "outputs": [],
   "source": [
    "for row_index, row in songs_sampled[300:400].iterrows():\n",
    "    song = songs_sampled.at[row_index, 'Song']\n",
    "    artist = songs_sampled.at[row_index, 'Performer']\n",
    "    pos, neu, neg, comp = get_sen_scores(artist, song)\n",
    "    arr_pos4.append(pos)\n",
    "    arr_neu4.append(neu)\n",
    "    arr_neg4.append(neg)\n",
    "    arr_comp4.append(comp)"
   ]
  },
  {
   "cell_type": "code",
   "execution_count": null,
   "metadata": {},
   "outputs": [],
   "source": [
    "for row_index, row in songs_sampled[400:500].iterrows():\n",
    "    song = songs_sampled.at[row_index, 'Song']\n",
    "    artist = songs_sampled.at[row_index, 'Performer']\n",
    "    pos, neu, neg, comp = get_sen_scores(artist, song)\n",
    "    arr_pos5.append(pos)\n",
    "    arr_neu5.append(neu)\n",
    "    arr_neg5.append(neg)\n",
    "    arr_comp5.append(comp)"
   ]
  },
  {
   "cell_type": "code",
   "execution_count": null,
   "metadata": {},
   "outputs": [],
   "source": [
    "for row_index, row in songs_sampled[500:600].iterrows():\n",
    "    song = songs_sampled.at[row_index, 'Song']\n",
    "    artist = songs_sampled.at[row_index, 'Performer']\n",
    "    pos, neu, neg, comp = get_sen_scores(artist, song)\n",
    "    arr_pos6.append(pos)\n",
    "    arr_neu6.append(neu)\n",
    "    arr_neg6.append(neg)\n",
    "    arr_comp6.append(comp)"
   ]
  },
  {
   "cell_type": "code",
   "execution_count": null,
   "metadata": {},
   "outputs": [],
   "source": [
    "arr_pos = arr_pos1 + arr_pos2 + arr_pos3 + arr_pos4 + arr_pos5 + arr_pos6\n",
    "arr_neu = arr_neu1 + arr_neu2 + arr_neu3 + arr_neu4 + arr_neu5 + arr_neu6\n",
    "arr_neg = arr_neg1 + arr_neg2 + arr_neg3 + arr_neg4 + arr_neg5 + arr_neg6\n",
    "arr_comp = arr_comp1 + arr_comp2 + arr_comp3 + arr_comp4 + arr_comp5 +  arr_comp6\n",
    "\n",
    "data = {'Pos_Score': arr_pos, 'Neu_Score': arr_neu, 'Neg_Score': arr_neg, 'Comp_Score': arr_comp}\n",
    "polarity_scores = pd.DataFrame(data=data)\n",
    "polarity_scores.head()\n",
    "\n",
    "# songs_sampled[\"Pos_Score\"] = arr_pos\n",
    "# songs_sampled[\"Neu_Score\"] = arr_neu\n",
    "# songs_sampled[\"Neg_Score\"] = arr_neg\n",
    "# songs_sampled[\"Comp_Score\"] = arr_comp\n",
    "\n",
    "# songs_sampled.head()"
   ]
  }
 ],
 "metadata": {
  "kernelspec": {
   "display_name": "Python 3",
   "language": "python",
   "name": "python3"
  },
  "language_info": {
   "codemirror_mode": {
    "name": "ipython",
    "version": 3
   },
   "file_extension": ".py",
   "mimetype": "text/x-python",
   "name": "python",
   "nbconvert_exporter": "python",
   "pygments_lexer": "ipython3",
   "version": "3.8.5"
  }
 },
 "nbformat": 4,
 "nbformat_minor": 4
}
